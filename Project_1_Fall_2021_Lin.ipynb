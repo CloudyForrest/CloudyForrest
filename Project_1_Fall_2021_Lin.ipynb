{
  "nbformat": 4,
  "nbformat_minor": 0,
  "metadata": {
    "kernelspec": {
      "display_name": "Python 3",
      "language": "python",
      "name": "python3"
    },
    "language_info": {
      "codemirror_mode": {
        "name": "ipython",
        "version": 3
      },
      "file_extension": ".py",
      "mimetype": "text/x-python",
      "name": "python",
      "nbconvert_exporter": "python",
      "pygments_lexer": "ipython3",
      "version": "3.8.8"
    },
    "colab": {
      "name": "Project-1-Fall-2021_Lin.ipynb",
      "provenance": [],
      "include_colab_link": true
    }
  },
  "cells": [
    {
      "cell_type": "markdown",
      "metadata": {
        "id": "view-in-github",
        "colab_type": "text"
      },
      "source": [
        "<a href=\"https://colab.research.google.com/github/CloudyForrest/CloudyForrest/blob/master/Project_1_Fall_2021_Lin.ipynb\" target=\"_parent\"><img src=\"https://colab.research.google.com/assets/colab-badge.svg\" alt=\"Open In Colab\"/></a>"
      ]
    },
    {
      "cell_type": "markdown",
      "metadata": {
        "id": "jl-o7roZiFh0"
      },
      "source": [
        "# Project One: Due September 12, 2021, 11:59PM"
      ]
    },
    {
      "cell_type": "code",
      "metadata": {
        "id": "2m9Lzk7UiFh3"
      },
      "source": [
        "# Required Header\n",
        "%matplotlib inline\n",
        "\n",
        "import matplotlib.pyplot as plt\n",
        "import networkx as nx\n",
        "import numpy as np\n",
        "import random"
      ],
      "execution_count": null,
      "outputs": []
    },
    {
      "cell_type": "markdown",
      "metadata": {
        "id": "VD5K-9W_iFh6"
      },
      "source": [
        "## Get a edge list data set\n",
        "### 1. Download a edge list that has more than 1000 nodes. Careful not to pick very large graphs\n",
        "### 2. Store the edge list as a graph call it it G1"
      ]
    },
    {
      "cell_type": "code",
      "metadata": {
        "colab": {
          "base_uri": "https://localhost:8080/",
          "height": 204
        },
        "id": "kwC4hUXciFh6",
        "outputId": "e6d5160d-0d08-49c0-feb5-636a5c1e8946"
      },
      "source": [
        "el = open (\"Module-1-EdgeList-1.txt\", 'rb') # open file and rb is for read-binary\n",
        "G1 = nx.read_edgelist(el, nodetype=int) # edges on each line of the input\n",
        "el.close() # we can close the file now"
      ],
      "execution_count": 7,
      "outputs": [
        {
          "output_type": "error",
          "ename": "FileNotFoundError",
          "evalue": "ignored",
          "traceback": [
            "\u001b[0;31m---------------------------------------------------------------------------\u001b[0m",
            "\u001b[0;31mFileNotFoundError\u001b[0m                         Traceback (most recent call last)",
            "\u001b[0;32m<ipython-input-7-8b0efdfe3f4b>\u001b[0m in \u001b[0;36m<module>\u001b[0;34m()\u001b[0m\n\u001b[0;32m----> 1\u001b[0;31m \u001b[0mel\u001b[0m \u001b[0;34m=\u001b[0m \u001b[0mopen\u001b[0m \u001b[0;34m(\u001b[0m\u001b[0;34m\"Module-1-EdgeList-1.txt\"\u001b[0m\u001b[0;34m,\u001b[0m \u001b[0;34m'rb'\u001b[0m\u001b[0;34m)\u001b[0m \u001b[0;31m# open file and rb is for read-binary\u001b[0m\u001b[0;34m\u001b[0m\u001b[0;34m\u001b[0m\u001b[0m\n\u001b[0m\u001b[1;32m      2\u001b[0m \u001b[0mG1\u001b[0m \u001b[0;34m=\u001b[0m \u001b[0mnx\u001b[0m\u001b[0;34m.\u001b[0m\u001b[0mread_edgelist\u001b[0m\u001b[0;34m(\u001b[0m\u001b[0mel\u001b[0m\u001b[0;34m,\u001b[0m \u001b[0mnodetype\u001b[0m\u001b[0;34m=\u001b[0m\u001b[0mint\u001b[0m\u001b[0;34m)\u001b[0m \u001b[0;31m# edges on each line of the input\u001b[0m\u001b[0;34m\u001b[0m\u001b[0;34m\u001b[0m\u001b[0m\n\u001b[1;32m      3\u001b[0m \u001b[0mel\u001b[0m\u001b[0;34m.\u001b[0m\u001b[0mclose\u001b[0m\u001b[0;34m(\u001b[0m\u001b[0;34m)\u001b[0m \u001b[0;31m# we can close the file now\u001b[0m\u001b[0;34m\u001b[0m\u001b[0;34m\u001b[0m\u001b[0m\n",
            "\u001b[0;31mFileNotFoundError\u001b[0m: [Errno 2] No such file or directory: 'Module-1-EdgeList-1.txt'"
          ]
        }
      ]
    },
    {
      "cell_type": "markdown",
      "metadata": {
        "id": "Mjc9vgkTiFh7"
      },
      "source": [
        "## Plot the graph G1 without node numbers"
      ]
    },
    {
      "cell_type": "code",
      "metadata": {
        "id": "zryiKTWUiFh8",
        "outputId": "5e44f3e5-804d-4cd9-e12d-1e63105ef2b4"
      },
      "source": [
        "degree_sequence = [d for n, d in G1.degree()]\n",
        "nx.draw_circular(G1, node_color='C0',node_size=200,with_labels=True)\n",
        "plt.show()"
      ],
      "execution_count": null,
      "outputs": [
        {
          "data": {
            "image/png": "[encoded data removed]",
            "text/plain": [
              "<Figure size 432x288 with 1 Axes>"
            ]
          },
          "metadata": {},
          "output_type": "display_data"
        }
      ]
    },
    {
      "cell_type": "markdown",
      "metadata": {
        "id": "BEp5-vYtiFh-"
      },
      "source": [
        "## Find the degree of each node in G1 and draw a histogram: nodes on the x-axis and degree on the y-axis"
      ]
    },
    {
      "cell_type": "code",
      "metadata": {
        "id": "E3ctpIHliFh_",
        "outputId": "f1a971ad-58cb-4a60-83e9-2ca39fe1d64a"
      },
      "source": [
        "n = 0\n",
        "m = 1\n",
        "degreeHist = [] # create a vector (or think of this as an array)\n",
        "for d in degree_sequence:\n",
        "    for x in range(0, d):\n",
        "        degreeHist.append(m)\n",
        "        n+=1\n",
        "    m+=1\n",
        "plt.hist(degreeHist, bins=15)\n",
        "plt.xlabel('Node Numbers')\n",
        "plt.ylabel('Degrees of Nodes')\n",
        "plt.title('Nodes and Degrees')\n",
        "plt.show()"
      ],
      "execution_count": null,
      "outputs": [
        {
          "data": {
            "image/png": "[encoded data removed]",
            "text/plain": [
              "<Figure size 432x288 with 1 Axes>"
            ]
          },
          "metadata": {
            "needs_background": "light"
          },
          "output_type": "display_data"
        }
      ]
    },
    {
      "cell_type": "markdown",
      "metadata": {
        "id": "Mv9zokDJiFiB"
      },
      "source": [
        "## Find the average degree of nodes in G1"
      ]
    },
    {
      "cell_type": "code",
      "metadata": {
        "id": "IsFMvfCmiFiC",
        "outputId": "572e419e-ef1c-48c8-d9c9-f8fb2922b349"
      },
      "source": [
        "ave = sum(degree_sequence)/len(degree_sequence)\n",
        "print('The average degree of nodes is %.2f' % ave)"
      ],
      "execution_count": null,
      "outputs": [
        {
          "name": "stdout",
          "output_type": "stream",
          "text": [
            "The average degree of nodes is 3.33\n"
          ]
        }
      ]
    },
    {
      "cell_type": "markdown",
      "metadata": {
        "id": "A7NorGSziFiD"
      },
      "source": [
        "## Find the number of edges in the graph G1"
      ]
    },
    {
      "cell_type": "code",
      "metadata": {
        "id": "FhnSic5_iFiE",
        "outputId": "c15deba0-ac23-47d2-e1a7-3ec736ec04f2"
      },
      "source": [
        "num = sum(degree_sequence)/2\n",
        "print('The number of the edges in G1 is %d' % num)"
      ],
      "execution_count": null,
      "outputs": [
        {
          "name": "stdout",
          "output_type": "stream",
          "text": [
            "The number of the edges in G1 is 10\n"
          ]
        }
      ]
    },
    {
      "cell_type": "markdown",
      "metadata": {
        "id": "ps3fpa0MiFiE"
      },
      "source": [
        "## Construct a G2 from G1 by adding edges randomly to nodes in G1 whose degree is less than 5; For example if node 10 has a degree 3, we add two new edges (in random). Note that when you add an edge (10, 19), node 19 also gains a degree."
      ]
    },
    {
      "cell_type": "code",
      "metadata": {
        "id": "wM3jUXviiFiF"
      },
      "source": [
        "G2 = G1\n",
        "G2.add_edge(1, 6)\n",
        "G2.add_edge(1, 5)\n",
        "G2.add_edge(1, 4)"
      ],
      "execution_count": null,
      "outputs": []
    },
    {
      "cell_type": "markdown",
      "metadata": {
        "id": "72Rk17yfiFiG"
      },
      "source": [
        "## Plot the subgraph G2 without node numbers"
      ]
    },
    {
      "cell_type": "code",
      "metadata": {
        "id": "zrdVlF7SiFiG",
        "outputId": "79eebbd1-641b-4c38-ebcb-ef15b3a99e2b"
      },
      "source": [
        "nx.draw_circular(G2, node_color='C0',node_size=200,with_labels=True)\n",
        "plt.show()"
      ],
      "execution_count": null,
      "outputs": [
        {
          "data": {
            "image/png": "[encoded data removed]",
            "text/plain": [
              "<Figure size 432x288 with 1 Axes>"
            ]
          },
          "metadata": {},
          "output_type": "display_data"
        }
      ]
    },
    {
      "cell_type": "markdown",
      "metadata": {
        "id": "zZan11ofiFiG"
      },
      "source": [
        "## Find the number of edges in the graph G2"
      ]
    },
    {
      "cell_type": "code",
      "metadata": {
        "id": "qNw4ePoAiFiG",
        "outputId": "3bd81e2c-b5f7-49c3-94b2-e645a090517c"
      },
      "source": [
        "degree_sequence2 = [d for n, d in G2.degree()]\n",
        "print('The number of the edges of G2 is', sum(degree_sequence2))"
      ],
      "execution_count": null,
      "outputs": [
        {
          "name": "stdout",
          "output_type": "stream",
          "text": [
            "The number of the edges of G2 is 26\n"
          ]
        }
      ]
    },
    {
      "cell_type": "markdown",
      "metadata": {
        "id": "mzQVOZVIiFiH"
      },
      "source": [
        "## Find the average degree of the graph G1 and G2"
      ]
    },
    {
      "cell_type": "code",
      "metadata": {
        "id": "7iDO4a70iFiH",
        "outputId": "35b86d81-c58b-46f9-c8ea-3923ab1c5731"
      },
      "source": [
        "numOne = sum(degree_sequence)/2\n",
        "numTwo = sum(degree_sequence2)/2\n",
        "print('The number of the edges in G1 is %d' % numOne)\n",
        "print('The number of the edges in G2 is %d' % numTwo)"
      ],
      "execution_count": null,
      "outputs": [
        {
          "name": "stdout",
          "output_type": "stream",
          "text": [
            "The number of the edges in G1 is 10\n",
            "The number of the edges in G2 is 13\n"
          ]
        }
      ]
    },
    {
      "cell_type": "markdown",
      "metadata": {
        "id": "1yQTpMlliFiI"
      },
      "source": [
        "## Create erdos_renyni graph with same number of nodes as in G2"
      ]
    },
    {
      "cell_type": "code",
      "metadata": {
        "scrolled": true,
        "id": "lyHu33cTiFiI",
        "outputId": "c74e10f4-d42f-422a-a24d-923dfc130490"
      },
      "source": [
        "#H1 = nx.barabasi_albert_graph (noOfNodesInG1, 5)\n",
        "#H1 = nx.erdos_renyni_graph(len(G2), 5)\n",
        "#H1 = nx.fast_gnp_random_graph(5, 5)\n",
        "#G = nx.erdos_renyi_graph(50,5)\n",
        "#G = nx.fast_gnp_random_graph(5, 2)\n",
        "#nx.draw(G, with_labels=True)\n",
        "#plt.show()\n",
        "import networkx as nx\n",
        "import matplotlib.pyplot as plt  \n",
        "G = nx.erdos_renyi_graph(6,0.5)\n",
        "nx.draw(G, with_labels=True)\n",
        "plt.show()"
      ],
      "execution_count": null,
      "outputs": [
        {
          "ename": "NetworkXError",
          "evalue": "random_state_index is incorrect",
          "output_type": "error",
          "traceback": [
            "\u001b[1;31m---------------------------------------------------------------------------\u001b[0m",
            "\u001b[1;31mIndexError\u001b[0m                                Traceback (most recent call last)",
            "\u001b[1;32m~\\anaconda3\\lib\\site-packages\\networkx\\utils\\decorators.py\u001b[0m in \u001b[0;36m_random_state\u001b[1;34m(func, *args, **kwargs)\u001b[0m\n\u001b[0;32m    456\u001b[0m         \u001b[1;32mtry\u001b[0m\u001b[1;33m:\u001b[0m\u001b[1;33m\u001b[0m\u001b[1;33m\u001b[0m\u001b[0m\n\u001b[1;32m--> 457\u001b[1;33m             \u001b[0mrandom_state_arg\u001b[0m \u001b[1;33m=\u001b[0m \u001b[0margs\u001b[0m\u001b[1;33m[\u001b[0m\u001b[0mrandom_state_index\u001b[0m\u001b[1;33m]\u001b[0m\u001b[1;33m\u001b[0m\u001b[1;33m\u001b[0m\u001b[0m\n\u001b[0m\u001b[0;32m    458\u001b[0m         \u001b[1;32mexcept\u001b[0m \u001b[0mTypeError\u001b[0m \u001b[1;32mas\u001b[0m \u001b[0me\u001b[0m\u001b[1;33m:\u001b[0m\u001b[1;33m\u001b[0m\u001b[1;33m\u001b[0m\u001b[0m\n",
            "\u001b[1;31mIndexError\u001b[0m: tuple index out of range",
            "\nThe above exception was the direct cause of the following exception:\n",
            "\u001b[1;31mNetworkXError\u001b[0m                             Traceback (most recent call last)",
            "\u001b[1;32m<ipython-input-148-408543290cec>\u001b[0m in \u001b[0;36m<module>\u001b[1;34m\u001b[0m\n\u001b[0;32m      8\u001b[0m \u001b[1;32mimport\u001b[0m \u001b[0mnetworkx\u001b[0m \u001b[1;32mas\u001b[0m \u001b[0mnx\u001b[0m\u001b[1;33m\u001b[0m\u001b[1;33m\u001b[0m\u001b[0m\n\u001b[0;32m      9\u001b[0m \u001b[1;32mimport\u001b[0m \u001b[0mmatplotlib\u001b[0m\u001b[1;33m.\u001b[0m\u001b[0mpyplot\u001b[0m \u001b[1;32mas\u001b[0m \u001b[0mplt\u001b[0m\u001b[1;33m\u001b[0m\u001b[1;33m\u001b[0m\u001b[0m\n\u001b[1;32m---> 10\u001b[1;33m \u001b[0mG\u001b[0m \u001b[1;33m=\u001b[0m \u001b[0mnx\u001b[0m\u001b[1;33m.\u001b[0m\u001b[0merdos_renyi_graph\u001b[0m\u001b[1;33m(\u001b[0m\u001b[1;36m6\u001b[0m\u001b[1;33m,\u001b[0m\u001b[1;36m0.5\u001b[0m\u001b[1;33m)\u001b[0m\u001b[1;33m\u001b[0m\u001b[1;33m\u001b[0m\u001b[0m\n\u001b[0m\u001b[0;32m     11\u001b[0m \u001b[0mnx\u001b[0m\u001b[1;33m.\u001b[0m\u001b[0mdraw\u001b[0m\u001b[1;33m(\u001b[0m\u001b[0mG\u001b[0m\u001b[1;33m,\u001b[0m \u001b[0mwith_labels\u001b[0m\u001b[1;33m=\u001b[0m\u001b[1;32mTrue\u001b[0m\u001b[1;33m)\u001b[0m\u001b[1;33m\u001b[0m\u001b[1;33m\u001b[0m\u001b[0m\n\u001b[0;32m     12\u001b[0m \u001b[0mplt\u001b[0m\u001b[1;33m.\u001b[0m\u001b[0mshow\u001b[0m\u001b[1;33m(\u001b[0m\u001b[1;33m)\u001b[0m\u001b[1;33m\u001b[0m\u001b[1;33m\u001b[0m\u001b[0m\n",
            "\u001b[1;32m~\\anaconda3\\lib\\site-packages\\decorator.py\u001b[0m in \u001b[0;36mfun\u001b[1;34m(*args, **kw)\u001b[0m\n\u001b[0;32m    229\u001b[0m             \u001b[1;32mif\u001b[0m \u001b[1;32mnot\u001b[0m \u001b[0mkwsyntax\u001b[0m\u001b[1;33m:\u001b[0m\u001b[1;33m\u001b[0m\u001b[1;33m\u001b[0m\u001b[0m\n\u001b[0;32m    230\u001b[0m                 \u001b[0margs\u001b[0m\u001b[1;33m,\u001b[0m \u001b[0mkw\u001b[0m \u001b[1;33m=\u001b[0m \u001b[0mfix\u001b[0m\u001b[1;33m(\u001b[0m\u001b[0margs\u001b[0m\u001b[1;33m,\u001b[0m \u001b[0mkw\u001b[0m\u001b[1;33m,\u001b[0m \u001b[0msig\u001b[0m\u001b[1;33m)\u001b[0m\u001b[1;33m\u001b[0m\u001b[1;33m\u001b[0m\u001b[0m\n\u001b[1;32m--> 231\u001b[1;33m             \u001b[1;32mreturn\u001b[0m \u001b[0mcaller\u001b[0m\u001b[1;33m(\u001b[0m\u001b[0mfunc\u001b[0m\u001b[1;33m,\u001b[0m \u001b[1;33m*\u001b[0m\u001b[1;33m(\u001b[0m\u001b[0mextras\u001b[0m \u001b[1;33m+\u001b[0m \u001b[0margs\u001b[0m\u001b[1;33m)\u001b[0m\u001b[1;33m,\u001b[0m \u001b[1;33m**\u001b[0m\u001b[0mkw\u001b[0m\u001b[1;33m)\u001b[0m\u001b[1;33m\u001b[0m\u001b[1;33m\u001b[0m\u001b[0m\n\u001b[0m\u001b[0;32m    232\u001b[0m     \u001b[0mfun\u001b[0m\u001b[1;33m.\u001b[0m\u001b[0m__name__\u001b[0m \u001b[1;33m=\u001b[0m \u001b[0mfunc\u001b[0m\u001b[1;33m.\u001b[0m\u001b[0m__name__\u001b[0m\u001b[1;33m\u001b[0m\u001b[1;33m\u001b[0m\u001b[0m\n\u001b[0;32m    233\u001b[0m     \u001b[0mfun\u001b[0m\u001b[1;33m.\u001b[0m\u001b[0m__doc__\u001b[0m \u001b[1;33m=\u001b[0m \u001b[0mfunc\u001b[0m\u001b[1;33m.\u001b[0m\u001b[0m__doc__\u001b[0m\u001b[1;33m\u001b[0m\u001b[1;33m\u001b[0m\u001b[0m\n",
            "\u001b[1;32m~\\anaconda3\\lib\\site-packages\\networkx\\utils\\decorators.py\u001b[0m in \u001b[0;36m_random_state\u001b[1;34m(func, *args, **kwargs)\u001b[0m\n\u001b[0;32m    459\u001b[0m             \u001b[1;32mraise\u001b[0m \u001b[0mnx\u001b[0m\u001b[1;33m.\u001b[0m\u001b[0mNetworkXError\u001b[0m\u001b[1;33m(\u001b[0m\u001b[1;34m\"random_state_index must be an integer\"\u001b[0m\u001b[1;33m)\u001b[0m \u001b[1;32mfrom\u001b[0m \u001b[0me\u001b[0m\u001b[1;33m\u001b[0m\u001b[1;33m\u001b[0m\u001b[0m\n\u001b[0;32m    460\u001b[0m         \u001b[1;32mexcept\u001b[0m \u001b[0mIndexError\u001b[0m \u001b[1;32mas\u001b[0m \u001b[0me\u001b[0m\u001b[1;33m:\u001b[0m\u001b[1;33m\u001b[0m\u001b[1;33m\u001b[0m\u001b[0m\n\u001b[1;32m--> 461\u001b[1;33m             \u001b[1;32mraise\u001b[0m \u001b[0mnx\u001b[0m\u001b[1;33m.\u001b[0m\u001b[0mNetworkXError\u001b[0m\u001b[1;33m(\u001b[0m\u001b[1;34m\"random_state_index is incorrect\"\u001b[0m\u001b[1;33m)\u001b[0m \u001b[1;32mfrom\u001b[0m \u001b[0me\u001b[0m\u001b[1;33m\u001b[0m\u001b[1;33m\u001b[0m\u001b[0m\n\u001b[0m\u001b[0;32m    462\u001b[0m \u001b[1;33m\u001b[0m\u001b[0m\n\u001b[0;32m    463\u001b[0m         \u001b[1;31m# Create a numpy.random.RandomState instance\u001b[0m\u001b[1;33m\u001b[0m\u001b[1;33m\u001b[0m\u001b[1;33m\u001b[0m\u001b[0m\n",
            "\u001b[1;31mNetworkXError\u001b[0m: random_state_index is incorrect"
          ]
        }
      ]
    },
    {
      "cell_type": "markdown",
      "metadata": {
        "id": "JEG94gTpiFiJ"
      },
      "source": [
        "## Plot the graph H1 without node numbers"
      ]
    },
    {
      "cell_type": "code",
      "metadata": {
        "id": "1stdHLluiFiJ"
      },
      "source": [
        ""
      ],
      "execution_count": null,
      "outputs": []
    },
    {
      "cell_type": "markdown",
      "metadata": {
        "id": "BnXywfV7iFiJ"
      },
      "source": [
        "## Find the degree of each node in H1 and draw a histogram: nodes on the x-axis and degree on the y-axis"
      ]
    },
    {
      "cell_type": "code",
      "metadata": {
        "id": "VLXBimoxiFiJ"
      },
      "source": [
        ""
      ],
      "execution_count": null,
      "outputs": []
    },
    {
      "cell_type": "markdown",
      "metadata": {
        "id": "H8oVFTkgiFiJ"
      },
      "source": [
        "## Find the average degree of nodes in H1"
      ]
    },
    {
      "cell_type": "code",
      "metadata": {
        "id": "vyMpirnQiFiK"
      },
      "source": [
        ""
      ],
      "execution_count": null,
      "outputs": []
    },
    {
      "cell_type": "markdown",
      "metadata": {
        "id": "hHdu86lCiFiK"
      },
      "source": [
        "## Construct a subgraph H2 from H1 by removing nodes whose degree is less than 2 times the average degree and nodes whose degree is greater than 2 times the avearge degree"
      ]
    },
    {
      "cell_type": "code",
      "metadata": {
        "id": "nsvyGJl8iFiK"
      },
      "source": [
        ""
      ],
      "execution_count": null,
      "outputs": []
    },
    {
      "cell_type": "markdown",
      "metadata": {
        "id": "y5piC7ZxiFiK"
      },
      "source": [
        "## Plot the subgraph H2 without node numbers"
      ]
    },
    {
      "cell_type": "code",
      "metadata": {
        "id": "lThTGxJ5iFiK"
      },
      "source": [
        ""
      ],
      "execution_count": null,
      "outputs": []
    },
    {
      "cell_type": "markdown",
      "metadata": {
        "id": "R7mbrzbpiFiL"
      },
      "source": [
        "## Compare G2 and H2"
      ]
    },
    {
      "cell_type": "code",
      "metadata": {
        "id": "UtsG18QYiFiL"
      },
      "source": [
        ""
      ],
      "execution_count": null,
      "outputs": []
    }
  ]
}